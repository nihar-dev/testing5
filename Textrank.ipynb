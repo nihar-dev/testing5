{
 "cells": [
  {
   "cell_type": "code",
   "execution_count": 1,
   "id": "b0a81422",
   "metadata": {
    "collapsed": true
   },
   "outputs": [
    {
     "name": "stdout",
     "output_type": "stream",
     "text": [
      "Collecting pytextrank\n",
      "  Downloading pytextrank-3.2.3-py3-none-any.whl (30 kB)\n",
      "Collecting graphviz>=0.13\n",
      "  Downloading graphviz-0.20-py3-none-any.whl (46 kB)\n",
      "Collecting icecream>=2.1\n",
      "  Downloading icecream-2.1.2-py2.py3-none-any.whl (8.3 kB)\n",
      "Requirement already satisfied: scipy>=1.7 in c:\\users\\nihar\\anaconda3\\lib\\site-packages (from pytextrank) (1.7.3)\n",
      "Requirement already satisfied: networkx[default]>=2.6 in c:\\users\\nihar\\anaconda3\\lib\\site-packages (from pytextrank) (2.7.1)\n",
      "Requirement already satisfied: pygments>=2.7.4 in c:\\users\\nihar\\anaconda3\\lib\\site-packages (from pytextrank) (2.11.2)\n",
      "Requirement already satisfied: spacy>=3.0 in c:\\users\\nihar\\anaconda3\\lib\\site-packages (from pytextrank) (3.3.0)\n",
      "Requirement already satisfied: asttokens>=2.0.1 in c:\\users\\nihar\\anaconda3\\lib\\site-packages (from icecream>=2.1->pytextrank) (2.0.5)\n",
      "Requirement already satisfied: colorama>=0.3.9 in c:\\users\\nihar\\anaconda3\\lib\\site-packages (from icecream>=2.1->pytextrank) (0.4.4)\n",
      "Requirement already satisfied: executing>=0.3.1 in c:\\users\\nihar\\anaconda3\\lib\\site-packages (from icecream>=2.1->pytextrank) (0.8.3)\n",
      "Requirement already satisfied: six in c:\\users\\nihar\\anaconda3\\lib\\site-packages (from asttokens>=2.0.1->icecream>=2.1->pytextrank) (1.16.0)\n",
      "Requirement already satisfied: pandas>=1.3 in c:\\users\\nihar\\anaconda3\\lib\\site-packages (from networkx[default]>=2.6->pytextrank) (1.4.2)\n",
      "Requirement already satisfied: numpy>=1.19 in c:\\users\\nihar\\anaconda3\\lib\\site-packages (from networkx[default]>=2.6->pytextrank) (1.21.5)\n",
      "Collecting scipy>=1.7\n",
      "  Downloading scipy-1.8.1-cp39-cp39-win_amd64.whl (36.9 MB)\n",
      "Requirement already satisfied: matplotlib>=3.4 in c:\\users\\nihar\\anaconda3\\lib\\site-packages (from networkx[default]>=2.6->pytextrank) (3.5.1)\n",
      "Requirement already satisfied: kiwisolver>=1.0.1 in c:\\users\\nihar\\anaconda3\\lib\\site-packages (from matplotlib>=3.4->networkx[default]>=2.6->pytextrank) (1.3.2)\n",
      "Requirement already satisfied: cycler>=0.10 in c:\\users\\nihar\\anaconda3\\lib\\site-packages (from matplotlib>=3.4->networkx[default]>=2.6->pytextrank) (0.11.0)\n",
      "Requirement already satisfied: packaging>=20.0 in c:\\users\\nihar\\anaconda3\\lib\\site-packages (from matplotlib>=3.4->networkx[default]>=2.6->pytextrank) (21.3)\n",
      "Requirement already satisfied: pyparsing>=2.2.1 in c:\\users\\nihar\\anaconda3\\lib\\site-packages (from matplotlib>=3.4->networkx[default]>=2.6->pytextrank) (3.0.4)\n",
      "Requirement already satisfied: fonttools>=4.22.0 in c:\\users\\nihar\\anaconda3\\lib\\site-packages (from matplotlib>=3.4->networkx[default]>=2.6->pytextrank) (4.25.0)\n",
      "Requirement already satisfied: pillow>=6.2.0 in c:\\users\\nihar\\anaconda3\\lib\\site-packages (from matplotlib>=3.4->networkx[default]>=2.6->pytextrank) (9.0.1)\n",
      "Requirement already satisfied: python-dateutil>=2.7 in c:\\users\\nihar\\anaconda3\\lib\\site-packages (from matplotlib>=3.4->networkx[default]>=2.6->pytextrank) (2.8.2)\n",
      "Requirement already satisfied: pytz>=2020.1 in c:\\users\\nihar\\anaconda3\\lib\\site-packages (from pandas>=1.3->networkx[default]>=2.6->pytextrank) (2021.3)\n",
      "Requirement already satisfied: thinc<8.1.0,>=8.0.14 in c:\\users\\nihar\\anaconda3\\lib\\site-packages (from spacy>=3.0->pytextrank) (8.0.15)\n",
      "Requirement already satisfied: tqdm<5.0.0,>=4.38.0 in c:\\users\\nihar\\anaconda3\\lib\\site-packages (from spacy>=3.0->pytextrank) (4.64.0)\n",
      "Requirement already satisfied: pydantic!=1.8,!=1.8.1,<1.9.0,>=1.7.4 in c:\\users\\nihar\\anaconda3\\lib\\site-packages (from spacy>=3.0->pytextrank) (1.8.2)\n",
      "Requirement already satisfied: catalogue<2.1.0,>=2.0.6 in c:\\users\\nihar\\anaconda3\\lib\\site-packages (from spacy>=3.0->pytextrank) (2.0.7)\n",
      "Requirement already satisfied: pathy>=0.3.5 in c:\\users\\nihar\\anaconda3\\lib\\site-packages (from spacy>=3.0->pytextrank) (0.6.1)\n",
      "Requirement already satisfied: langcodes<4.0.0,>=3.2.0 in c:\\users\\nihar\\anaconda3\\lib\\site-packages (from spacy>=3.0->pytextrank) (3.3.0)\n",
      "Requirement already satisfied: wasabi<1.1.0,>=0.9.1 in c:\\users\\nihar\\anaconda3\\lib\\site-packages (from spacy>=3.0->pytextrank) (0.9.1)\n",
      "Requirement already satisfied: jinja2 in c:\\users\\nihar\\anaconda3\\lib\\site-packages (from spacy>=3.0->pytextrank) (2.11.3)\n",
      "Requirement already satisfied: requests<3.0.0,>=2.13.0 in c:\\users\\nihar\\anaconda3\\lib\\site-packages (from spacy>=3.0->pytextrank) (2.27.1)\n",
      "Requirement already satisfied: typer<0.5.0,>=0.3.0 in c:\\users\\nihar\\anaconda3\\lib\\site-packages (from spacy>=3.0->pytextrank) (0.4.1)\n",
      "Requirement already satisfied: srsly<3.0.0,>=2.4.3 in c:\\users\\nihar\\anaconda3\\lib\\site-packages (from spacy>=3.0->pytextrank) (2.4.3)\n",
      "Requirement already satisfied: spacy-legacy<3.1.0,>=3.0.9 in c:\\users\\nihar\\anaconda3\\lib\\site-packages (from spacy>=3.0->pytextrank) (3.0.9)\n",
      "Requirement already satisfied: spacy-loggers<2.0.0,>=1.0.0 in c:\\users\\nihar\\anaconda3\\lib\\site-packages (from spacy>=3.0->pytextrank) (1.0.2)\n",
      "Requirement already satisfied: cymem<2.1.0,>=2.0.2 in c:\\users\\nihar\\anaconda3\\lib\\site-packages (from spacy>=3.0->pytextrank) (2.0.6)\n",
      "Requirement already satisfied: murmurhash<1.1.0,>=0.28.0 in c:\\users\\nihar\\anaconda3\\lib\\site-packages (from spacy>=3.0->pytextrank) (1.0.7)\n",
      "Requirement already satisfied: setuptools in c:\\users\\nihar\\anaconda3\\lib\\site-packages (from spacy>=3.0->pytextrank) (61.2.0)\n",
      "Requirement already satisfied: preshed<3.1.0,>=3.0.2 in c:\\users\\nihar\\anaconda3\\lib\\site-packages (from spacy>=3.0->pytextrank) (3.0.6)\n",
      "Requirement already satisfied: blis<0.8.0,>=0.4.0 in c:\\users\\nihar\\anaconda3\\lib\\site-packages (from spacy>=3.0->pytextrank) (0.7.7)\n",
      "Requirement already satisfied: smart-open<6.0.0,>=5.0.0 in c:\\users\\nihar\\anaconda3\\lib\\site-packages (from pathy>=0.3.5->spacy>=3.0->pytextrank) (5.1.0)\n",
      "Requirement already satisfied: typing-extensions>=3.7.4.3 in c:\\users\\nihar\\anaconda3\\lib\\site-packages (from pydantic!=1.8,!=1.8.1,<1.9.0,>=1.7.4->spacy>=3.0->pytextrank) (4.1.1)\n",
      "Requirement already satisfied: certifi>=2017.4.17 in c:\\users\\nihar\\anaconda3\\lib\\site-packages (from requests<3.0.0,>=2.13.0->spacy>=3.0->pytextrank) (2021.10.8)\n",
      "Requirement already satisfied: urllib3<1.27,>=1.21.1 in c:\\users\\nihar\\anaconda3\\lib\\site-packages (from requests<3.0.0,>=2.13.0->spacy>=3.0->pytextrank) (1.26.9)\n",
      "Requirement already satisfied: charset-normalizer~=2.0.0 in c:\\users\\nihar\\anaconda3\\lib\\site-packages (from requests<3.0.0,>=2.13.0->spacy>=3.0->pytextrank) (2.0.4)\n",
      "Requirement already satisfied: idna<4,>=2.5 in c:\\users\\nihar\\anaconda3\\lib\\site-packages (from requests<3.0.0,>=2.13.0->spacy>=3.0->pytextrank) (3.3)\n",
      "Requirement already satisfied: click<9.0.0,>=7.1.1 in c:\\users\\nihar\\anaconda3\\lib\\site-packages (from typer<0.5.0,>=0.3.0->spacy>=3.0->pytextrank) (8.0.4)\n",
      "Requirement already satisfied: MarkupSafe>=0.23 in c:\\users\\nihar\\anaconda3\\lib\\site-packages (from jinja2->spacy>=3.0->pytextrank) (2.0.1)\n",
      "Installing collected packages: scipy, icecream, graphviz, pytextrank\n",
      "  Attempting uninstall: scipy\n",
      "    Found existing installation: scipy 1.7.3\n",
      "    Uninstalling scipy-1.7.3:\n",
      "      Successfully uninstalled scipy-1.7.3\n",
      "Successfully installed graphviz-0.20 icecream-2.1.2 pytextrank-3.2.3 scipy-1.8.1\n"
     ]
    }
   ],
   "source": [
    "!pip3 install pytextrank"
   ]
  },
  {
   "cell_type": "code",
   "execution_count": 10,
   "id": "9dd85ddc",
   "metadata": {},
   "outputs": [],
   "source": [
    "brief = \"\"\"\n",
    "Abhishek is part of the WCAO Global Team under the Accounts VS.\n",
    "It’s a very complex project with the vision to re-invent the account opening journey across geographies.\n",
    "There is Global component and then there are local requirements with regards to the Account Opening.\n",
    "This team manages the pre-discovery and discovery phase to understand the gaps between the global needs vs the local needs. \n",
    "Currently engaged with the UK Market where he is playing a role of a PM for WCAO UK discovery, \n",
    "co-ordinating with UK market Business Team Project Manager. \n",
    "Scheduled and successfully organised the Workshop with WCAO global and UK market stakeholders and all other key contributors. \n",
    "The workshop was conducted successfully and received appreciation email from the WCAO global Director.\n",
    "Prepared the action log as a key outcome of the workshop and following it up with UK business team Project manager for \n",
    "the closure. As a BA, he is working closely with UK market BAs and other WCAO BAs to do the gap analysis for\n",
    "WCAO product and the UK market business.\n",
    " \"\"\"\n",
    "\n",
    "possitive = \"\"\"Very professional, excellent domain expertise in account opening,\n",
    "understands the problems and very quick to pick up the conversations and the requirements to put into the actions required\"\"\"\n",
    "\n",
    "Ebis = \"\"\"As this was his first engagement, there was a learning curve and he coped up well with the demands,\n",
    "works well with colleagues and other stakeholders.\n",
    "I would like for him to focus on the learnings from the overall project aspect with the UK journey so that he is able to lead the next market's Discovery phase on his own. He has the knowledge, \n",
    "the domain expertise to become a Prodcut Owner for Accout Opening\n",
    "in the future and we would like him to work towards that goal in the future.\"\"\""
   ]
  },
  {
   "cell_type": "code",
   "execution_count": 11,
   "id": "1cc7b989",
   "metadata": {},
   "outputs": [
    {
     "name": "stdout",
     "output_type": "stream",
     "text": [
      "UK market Business Team Project Manager\n",
      "WCAO UK discovery\n",
      "UK business team Project manager\n",
      "UK market BAs\n",
      "UK\n",
      "Business Team Project Manager\n",
      "other WCAO BAs\n",
      "local requirements\n",
      "WCAO global and UK market stakeholders\n",
      "Global component\n",
      "------+ve-------\n",
      "account opening\n",
      "the actions\n",
      "the requirements\n",
      "Very professional, excellent domain expertise\n",
      "the conversations\n",
      "the problems\n",
      "------EBIS-------\n",
      "other stakeholders\n",
      "Accout Opening\n",
      "Discovery\n",
      "colleagues\n",
      "journey\n",
      "UK\n",
      "the next markets Discovery phase\n",
      "the future\n",
      "the overall project aspect\n",
      "a Prodcut Owner\n"
     ]
    }
   ],
   "source": [
    "import spacy\n",
    "import pytextrank\n",
    "# example text\n",
    "# load a spaCy model, depending on language, scale, etc.\n",
    "nlp = spacy.load(\"en_core_web_sm\")\n",
    "# add PyTextRank to the spaCy pipeline\n",
    "nlp.add_pipe(\"textrank\")\n",
    "brief = nlp(brief)\n",
    "possitive = nlp(possitive)\n",
    "Ebis = nlp(Ebis)\n",
    "# examine the top-ranked phrases in the document\n",
    "for phrase in brief._.phrases[:10]:\n",
    "    print(phrase.text)\n",
    "print('------+ve-------')\n",
    "for phrase in possitive._.phrases[:10]:\n",
    "    print(phrase.text)\n",
    "print('------EBIS-------')\n",
    "for phrase in Ebis._.phrases[:10]:\n",
    "    print(phrase.text)"
   ]
  },
  {
   "cell_type": "code",
   "execution_count": null,
   "id": "3cdc2858",
   "metadata": {},
   "outputs": [],
   "source": []
  }
 ],
 "metadata": {
  "kernelspec": {
   "display_name": "Python 3 (ipykernel)",
   "language": "python",
   "name": "python3"
  },
  "language_info": {
   "codemirror_mode": {
    "name": "ipython",
    "version": 3
   },
   "file_extension": ".py",
   "mimetype": "text/x-python",
   "name": "python",
   "nbconvert_exporter": "python",
   "pygments_lexer": "ipython3",
   "version": "3.9.12"
  }
 },
 "nbformat": 4,
 "nbformat_minor": 5
}
